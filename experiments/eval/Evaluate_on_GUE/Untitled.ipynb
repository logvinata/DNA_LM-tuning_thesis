{
 "cells": [
  {
   "cell_type": "code",
   "execution_count": null,
   "id": "fa16b38c",
   "metadata": {},
   "outputs": [],
   "source": [
    "\"human_all_promoters_300\",\n",
    "\"human_nontata-core_promoters_300\",\n",
    "\"human_nontata_promoters_300\",\n",
    "\"human_tata-core_promoters_300\",\n",
    "\"human_tata_promoters_300\",\n",
    "\"human_reconstructed_splicing_400\",\n",
    "\"human_0_tf_100\",\n",
    "\"human_1_tf_100\",\n",
    "\"human_2_tf_100\",\n",
    "\"human_3_tf_100\",\n",
    "\"human_4_tf_100\",\n",
    "\"mouse_0_tf_100\",\n",
    "\"mouse_1_tf_100\",\n",
    "\"mouse_2_tf_100\",\n",
    "\"mouse_3_tf_100\",\n",
    "\"mouse_4_tf_100\",\n",
    "\"yeast_H3_EMP_500\",\n",
    "\"yeast_H3K14ac_EMP_500\",\n",
    "\"yeast_H3K36me3_EMP_500\",\n",
    "\"yeast_H3K4me1_EMP_500\",\n",
    "\"yeast_H3K4me3_EMP_500\",\n",
    "\"yeast_H3K79me3_EMP_500\",\n",
    "\"yeast_H3K9ac_EMP_500\",\n",
    "\"yeast_H4_EMP_500\",\n",
    "\"yeast_H4ac_EMP_500\",\n",
    "\"yeast_H3K4me2_EMP_500\","
   ]
  },
  {
   "cell_type": "code",
   "execution_count": null,
   "id": "cd9337b3",
   "metadata": {},
   "outputs": [],
   "source": []
  }
 ],
 "metadata": {
  "kernelspec": {
   "display_name": "adapters_tr",
   "language": "python",
   "name": "adapters_tr"
  },
  "language_info": {
   "codemirror_mode": {
    "name": "ipython",
    "version": 3
   },
   "file_extension": ".py",
   "mimetype": "text/x-python",
   "name": "python",
   "nbconvert_exporter": "python",
   "pygments_lexer": "ipython3",
   "version": "3.10.11"
  }
 },
 "nbformat": 4,
 "nbformat_minor": 5
}
